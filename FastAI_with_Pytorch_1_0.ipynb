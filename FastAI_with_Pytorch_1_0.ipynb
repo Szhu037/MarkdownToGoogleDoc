{
  "nbformat": 4,
  "nbformat_minor": 0,
  "metadata": {
    "colab": {
      "name": "FastAI with Pytorch 1.0",
      "provenance": [],
      "include_colab_link": true
    },
    "kernelspec": {
      "name": "python3",
      "display_name": "Python 3"
    },
    "accelerator": "GPU"
  },
  "cells": [
    {
      "cell_type": "markdown",
      "metadata": {
        "id": "view-in-github",
        "colab_type": "text"
      },
      "source": [
        "<a href=\"https://colab.research.google.com/github/Szhu037/MarkdownToGoogleDoc/blob/main/FastAI_with_Pytorch_1_0.ipynb\" target=\"_parent\"><img src=\"https://colab.research.google.com/assets/colab-badge.svg\" alt=\"Open In Colab\"/></a>"
      ]
    },
    {
      "cell_type": "code",
      "source": [
        "# Install necessary dependencies\n",
        "!pip install google-api-python-client google-auth-httplib2 google-auth-oauthlib markdown\n"
      ],
      "metadata": {
        "colab": {
          "base_uri": "https://localhost:8080/"
        },
        "id": "emljnMgANi2C",
        "outputId": "3c5d62de-eba0-487d-f7b5-5b3013b0ed09"
      },
      "execution_count": 1,
      "outputs": [
        {
          "output_type": "stream",
          "name": "stdout",
          "text": [
            "Requirement already satisfied: google-api-python-client in /usr/local/lib/python3.11/dist-packages (2.155.0)\n",
            "Requirement already satisfied: google-auth-httplib2 in /usr/local/lib/python3.11/dist-packages (0.2.0)\n",
            "Requirement already satisfied: google-auth-oauthlib in /usr/local/lib/python3.11/dist-packages (1.2.1)\n",
            "Requirement already satisfied: markdown in /usr/local/lib/python3.11/dist-packages (3.7)\n",
            "Requirement already satisfied: httplib2<1.dev0,>=0.19.0 in /usr/local/lib/python3.11/dist-packages (from google-api-python-client) (0.22.0)\n",
            "Requirement already satisfied: google-auth!=2.24.0,!=2.25.0,<3.0.0.dev0,>=1.32.0 in /usr/local/lib/python3.11/dist-packages (from google-api-python-client) (2.27.0)\n",
            "Requirement already satisfied: google-api-core!=2.0.*,!=2.1.*,!=2.2.*,!=2.3.0,<3.0.0.dev0,>=1.31.5 in /usr/local/lib/python3.11/dist-packages (from google-api-python-client) (2.19.2)\n",
            "Requirement already satisfied: uritemplate<5,>=3.0.1 in /usr/local/lib/python3.11/dist-packages (from google-api-python-client) (4.1.1)\n",
            "Requirement already satisfied: requests-oauthlib>=0.7.0 in /usr/local/lib/python3.11/dist-packages (from google-auth-oauthlib) (1.3.1)\n",
            "Requirement already satisfied: googleapis-common-protos<2.0.dev0,>=1.56.2 in /usr/local/lib/python3.11/dist-packages (from google-api-core!=2.0.*,!=2.1.*,!=2.2.*,!=2.3.0,<3.0.0.dev0,>=1.31.5->google-api-python-client) (1.66.0)\n",
            "Requirement already satisfied: protobuf!=3.20.0,!=3.20.1,!=4.21.0,!=4.21.1,!=4.21.2,!=4.21.3,!=4.21.4,!=4.21.5,<6.0.0.dev0,>=3.19.5 in /usr/local/lib/python3.11/dist-packages (from google-api-core!=2.0.*,!=2.1.*,!=2.2.*,!=2.3.0,<3.0.0.dev0,>=1.31.5->google-api-python-client) (4.25.5)\n",
            "Requirement already satisfied: proto-plus<2.0.0dev,>=1.22.3 in /usr/local/lib/python3.11/dist-packages (from google-api-core!=2.0.*,!=2.1.*,!=2.2.*,!=2.3.0,<3.0.0.dev0,>=1.31.5->google-api-python-client) (1.25.0)\n",
            "Requirement already satisfied: requests<3.0.0.dev0,>=2.18.0 in /usr/local/lib/python3.11/dist-packages (from google-api-core!=2.0.*,!=2.1.*,!=2.2.*,!=2.3.0,<3.0.0.dev0,>=1.31.5->google-api-python-client) (2.32.3)\n",
            "Requirement already satisfied: cachetools<6.0,>=2.0.0 in /usr/local/lib/python3.11/dist-packages (from google-auth!=2.24.0,!=2.25.0,<3.0.0.dev0,>=1.32.0->google-api-python-client) (5.5.1)\n",
            "Requirement already satisfied: pyasn1-modules>=0.2.1 in /usr/local/lib/python3.11/dist-packages (from google-auth!=2.24.0,!=2.25.0,<3.0.0.dev0,>=1.32.0->google-api-python-client) (0.4.1)\n",
            "Requirement already satisfied: rsa<5,>=3.1.4 in /usr/local/lib/python3.11/dist-packages (from google-auth!=2.24.0,!=2.25.0,<3.0.0.dev0,>=1.32.0->google-api-python-client) (4.9)\n",
            "Requirement already satisfied: pyparsing!=3.0.0,!=3.0.1,!=3.0.2,!=3.0.3,<4,>=2.4.2 in /usr/local/lib/python3.11/dist-packages (from httplib2<1.dev0,>=0.19.0->google-api-python-client) (3.2.1)\n",
            "Requirement already satisfied: oauthlib>=3.0.0 in /usr/local/lib/python3.11/dist-packages (from requests-oauthlib>=0.7.0->google-auth-oauthlib) (3.2.2)\n",
            "Requirement already satisfied: pyasn1<0.7.0,>=0.4.6 in /usr/local/lib/python3.11/dist-packages (from pyasn1-modules>=0.2.1->google-auth!=2.24.0,!=2.25.0,<3.0.0.dev0,>=1.32.0->google-api-python-client) (0.6.1)\n",
            "Requirement already satisfied: charset-normalizer<4,>=2 in /usr/local/lib/python3.11/dist-packages (from requests<3.0.0.dev0,>=2.18.0->google-api-core!=2.0.*,!=2.1.*,!=2.2.*,!=2.3.0,<3.0.0.dev0,>=1.31.5->google-api-python-client) (3.4.1)\n",
            "Requirement already satisfied: idna<4,>=2.5 in /usr/local/lib/python3.11/dist-packages (from requests<3.0.0.dev0,>=2.18.0->google-api-core!=2.0.*,!=2.1.*,!=2.2.*,!=2.3.0,<3.0.0.dev0,>=1.31.5->google-api-python-client) (3.10)\n",
            "Requirement already satisfied: urllib3<3,>=1.21.1 in /usr/local/lib/python3.11/dist-packages (from requests<3.0.0.dev0,>=2.18.0->google-api-core!=2.0.*,!=2.1.*,!=2.2.*,!=2.3.0,<3.0.0.dev0,>=1.31.5->google-api-python-client) (2.3.0)\n",
            "Requirement already satisfied: certifi>=2017.4.17 in /usr/local/lib/python3.11/dist-packages (from requests<3.0.0.dev0,>=2.18.0->google-api-core!=2.0.*,!=2.1.*,!=2.2.*,!=2.3.0,<3.0.0.dev0,>=1.31.5->google-api-python-client) (2024.12.14)\n"
          ]
        }
      ]
    },
    {
      "cell_type": "code",
      "source": [
        "# Step 1: Import required libraries\n",
        "from google.colab import auth\n",
        "from googleapiclient.discovery import build\n",
        "from google.auth.transport.requests import Request\n",
        "import markdown\n",
        "import re"
      ],
      "metadata": {
        "id": "URYA9OBzNqdN"
      },
      "execution_count": 2,
      "outputs": []
    },
    {
      "cell_type": "code",
      "source": [
        "\n",
        "# Step 2: Authenticate Google API\n",
        "auth.authenticate_user()\n",
        "\n",
        "# Initialize the Docs API client\n",
        "docs_service = build('docs', 'v1')\n",
        "\n",
        "# Step 3: Create a new Google Doc\n",
        "def create_google_doc(title):\n",
        "    document = docs_service.documents().create().execute()\n",
        "    doc_id = document['documentId']\n",
        "    docs_service.documents().batchUpdate(\n",
        "        documentId=doc_id,\n",
        "        body={\n",
        "            \"requests\": [\n",
        "                {\"insertText\": {\"location\": {\"index\": 1}, \"text\": title}}\n",
        "            ]\n",
        "        }).execute()\n",
        "    return doc_id\n",
        "\n",
        "# Step 4: Parse Markdown to Google Docs requests\n",
        "def parse_markdown_to_google_doc(md_text):\n",
        "    requests = []\n",
        "\n",
        "    # Convert markdown to HTML first\n",
        "    html = markdown.markdown(md_text)\n",
        "\n",
        "    # Function to process header\n",
        "    def process_header(header_level, text):\n",
        "        style = {1: 'HEADING_1', 2: 'HEADING_2', 3: 'HEADING_3'}\n",
        "        requests.append({\n",
        "            \"insertText\": {\"location\": {\"index\": 1}, \"text\": text + \"\\n\"}\n",
        "        })\n",
        "        requests.append({\n",
        "            \"updateParagraphStyle\": {\n",
        "                \"range\": {\"startIndex\": 1, \"endIndex\": len(text)+1},\n",
        "                \"paragraphStyle\": {\"namedStyleType\": style[header_level]},\n",
        "                \"fields\": \"namedStyleType\"\n",
        "            }\n",
        "        })\n",
        "\n",
        "    # Processing each line of markdown\n",
        "    lines = md_text.split('\\n')\n",
        "    for line in lines:\n",
        "        if line.startswith('# '):  # Heading 1\n",
        "            process_header(1, line[2:])\n",
        "        elif line.startswith('## '):  # Heading 2\n",
        "            process_header(2, line[3:])\n",
        "        elif line.startswith('### '):  # Heading 3\n",
        "            process_header(3, line[4:])\n",
        "        elif line.startswith('- '):  # Bullet points\n",
        "            requests.append({\n",
        "                \"insertText\": {\"location\": {\"index\": 1}, \"text\": line[2:] + \"\\n\"}\n",
        "            })\n",
        "\n",
        "    return requests\n",
        "\n",
        "# Step 5: Add action items with checkboxes\n",
        "def add_action_items(doc_id, action_items):\n",
        "    for item in action_items:\n",
        "        checkbox = \"☐\"  # Unicode checkbox symbol\n",
        "        assignee = re.search(r'@(\\w+)', item)\n",
        "        if assignee:\n",
        "            item = item.replace(assignee.group(0), f\"**{assignee.group(0)}**\")  # Bold assignee\n",
        "        docs_service.documents().batchUpdate(\n",
        "            documentId=doc_id,\n",
        "            body={\n",
        "                \"requests\": [\n",
        "                    {\"insertText\": {\"location\": {\"index\": 1}, \"text\": f\"{checkbox} {item}\\n\"}}\n",
        "                ]\n",
        "            }).execute()\n",
        "\n",
        "# Step 6: Example Markdown Meeting Notes\n",
        "markdown_notes = \"\"\"\n",
        "# Product Team Sync - May 15, 2023\n",
        "\n",
        "## Attendees\n",
        "- Sarah Chen (Product Lead)\n",
        "- Mike Johnson (Engineering)\n",
        "- Anna Smith (Design)\n",
        "- David Park (QA)\n",
        "\n",
        "## Agenda\n",
        "\n",
        "### 1. Sprint Review\n",
        "- Completed Features\n",
        "  - User authentication flow\n",
        "  - Dashboard redesign\n",
        "  - Performance optimization\n",
        "    - Reduced load time by 40%\n",
        "    - Implemented caching solution\n",
        "- Pending Items\n",
        "  - Mobile responsive fixes\n",
        "  - Beta testing feedback integration\n",
        "\n",
        "### 2. Current Challenges\n",
        "- Resource constraints in QA team\n",
        "- Third-party API integration delays\n",
        "- User feedback on new UI\n",
        "  - Navigation confusion\n",
        "  - Color contrast issues\n",
        "\n",
        "### 3. Next Sprint Planning\n",
        "- Priority Features\n",
        "  - Payment gateway integration\n",
        "  - User profile enhancement\n",
        "  - Analytics dashboard\n",
        "- Technical Debt\n",
        "  - Code refactoring\n",
        "  - Documentation updates\n",
        "\n",
        "## Action Items\n",
        "- [ ] @sarah: Finalize Q3 roadmap by Friday\n",
        "- [ ] @mike: Schedule technical review for payment integration\n",
        "- [ ] @anna: Share updated design system documentation\n",
        "- [ ] @david: Prepare QA resource allocation proposal\n",
        "\n",
        "## Next Steps\n",
        "- Schedule individual team reviews\n",
        "- Update sprint board\n",
        "- Share meeting summary with stakeholders\n",
        "\n",
        "## Notes\n",
        "- Next sync scheduled for May 22, 2023\n",
        "- Platform demo for stakeholders on May 25\n",
        "- Remember to update JIRA tickets\n",
        "\n",
        "---\n",
        "Meeting recorded by: Sarah Chen\n",
        "Duration: 45 minutes\n",
        "\"\"\"\n",
        "# Step 7: Create Google Doc\n",
        "doc_id = create_google_doc(\"Product Team Sync Notes\")\n",
        "requests = parse_markdown_to_google_doc(markdown_notes)\n",
        "\n",
        "# Add Action Items\n",
        "add_action_items(doc_id, [\n",
        "    \"@sarah: Finalize Q3 roadmap by Friday\",\n",
        "    \"@mike: Schedule technical review for payment integration\"\n",
        "])\n",
        "\n",
        "# Update the document with the parsed requests\n",
        "docs_service.documents().batchUpdate(documentId=doc_id, body={\"requests\": requests}).execute()\n",
        "\n",
        "# Output the Google Doc URL\n",
        "print(f\"Google Doc created successfully! You can view it here: https://docs.google.com/document/d/{doc_id}/edit\")\n"
      ],
      "metadata": {
        "colab": {
          "base_uri": "https://localhost:8080/"
        },
        "id": "4_4vbj3-Nx5A",
        "outputId": "91318131-4a1b-419b-bccd-9b32faf17f62"
      },
      "execution_count": 4,
      "outputs": [
        {
          "output_type": "stream",
          "name": "stdout",
          "text": [
            "Google Doc created successfully! You can view it here: https://docs.google.com/document/d/149HITiXbske4SgEQBp6AGfUFPYMuijRsePOFix_DooQ/edit\n"
          ]
        }
      ]
    }
  ]
}